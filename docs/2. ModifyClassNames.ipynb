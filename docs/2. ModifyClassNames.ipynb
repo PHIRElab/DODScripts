{
 "cells": [
  {
   "cell_type": "markdown",
   "metadata": {},
   "source": [
    "# Modify Class Names "
   ]
  },
  {
   "cell_type": "code",
   "execution_count": null,
   "metadata": {},
   "outputs": [],
   "source": [
    "import pandas as pd\n",
    "\n",
    "#Import features file\n",
    "x_train = pd.read_csv(\"ENTER FILE NAME.csv\")\n",
    "# enter full file path of features file "
   ]
  },
  {
   "cell_type": "code",
   "execution_count": null,
   "metadata": {},
   "outputs": [],
   "source": [
    "#change class names \n",
    "#number on the far right represents the classMedian number of the class \n",
    "#this should coincide with the class numbers provided during annotation\n",
    "#CHANGE THE NAME ON THE FAR RIGHT TO REPRESENT THE CLASS NAME THE NUMBER REPRESENTS\n",
    "x_train['classMedian'] = x_train['classMedian'].replace(1, \"ReachForward\")\n",
    "x_train['classMedian'] = x_train['classMedian'].replace(2, \"ReachUp\")\n",
    "x_train['classMedian'] = x_train['classMedian'].replace(3, \"ReachDown\")\n",
    "x_train['classMedian'] = x_train['classMedian'].replace(4, \"LiftUp\")\n",
    "x_train['classMedian'] = x_train['classMedian'].replace(5, \"PushDown\")\n",
    "x_train['classMedian'] = x_train['classMedian'].replace(6, \"WristUp\")\n",
    "x_train['classMedian'] = x_train['classMedian'].replace(8, \"GraspDyn\")\n",
    "\n",
    "x_train['classMedian'] = x_train['classMedian'].replace(9, \"LatPinch\")\n",
    "x_train['classMedian'] = x_train['classMedian'].replace(10, \"PushPull\")\n",
    "x_train['classMedian'] = x_train['classMedian'].replace(12, \"Container\")\n",
    "x_train['classMedian'] = x_train['classMedian'].replace(13, \"PinchDie\")\n",
    "x_train['classMedian'] = x_train['classMedian'].replace(14, \"Pencil\")\n",
    "x_train['classMedian'] = x_train['classMedian'].replace(15, \"Manipulate\")\n",
    "x_train['classMedian'] = x_train['classMedian'].replace(16, \"PushIndex\")\n",
    "x_train['classMedian'] = x_train['classMedian'].replace(17, \"PushThumb\")\n",
    "\n",
    "x_train['classMedian']"
   ]
  },
  {
   "cell_type": "code",
   "execution_count": null,
   "metadata": {},
   "outputs": [],
   "source": [
    "#save file to csv for training and validation\n",
    "x_train.to_csv(\"ENTER FILE NAME.csv\")"
   ]
  }
 ],
 "metadata": {
  "kernelspec": {
   "display_name": "Python 3",
   "language": "python",
   "name": "python3"
  },
  "language_info": {
   "codemirror_mode": {
    "name": "ipython",
    "version": 3
   },
   "file_extension": ".py",
   "mimetype": "text/x-python",
   "name": "python",
   "nbconvert_exporter": "python",
   "pygments_lexer": "ipython3",
   "version": "3.8.5"
  }
 },
 "nbformat": 4,
 "nbformat_minor": 4
}
