{
 "cells": [
  {
   "cell_type": "code",
   "execution_count": 133,
   "metadata": {},
   "outputs": [
    {
     "data": {
      "text/html": [
       "<div>\n",
       "<style scoped>\n",
       "    .dataframe tbody tr th:only-of-type {\n",
       "        vertical-align: middle;\n",
       "    }\n",
       "\n",
       "    .dataframe tbody tr th {\n",
       "        vertical-align: top;\n",
       "    }\n",
       "\n",
       "    .dataframe thead th {\n",
       "        text-align: right;\n",
       "    }\n",
       "</style>\n",
       "<table border=\"1\" class=\"dataframe\">\n",
       "  <thead>\n",
       "    <tr style=\"text-align: right;\">\n",
       "      <th></th>\n",
       "      <th>sample</th>\n",
       "      <th>time</th>\n",
       "      <th>x</th>\n",
       "      <th>y</th>\n",
       "      <th>z</th>\n",
       "      <th>sumsq</th>\n",
       "      <th>vm</th>\n",
       "    </tr>\n",
       "  </thead>\n",
       "  <tbody>\n",
       "    <tr>\n",
       "      <th>0</th>\n",
       "      <td>534</td>\n",
       "      <td>2022-02-16 13:25:41.172</td>\n",
       "      <td>396.187200</td>\n",
       "      <td>1195.348600</td>\n",
       "      <td>646.027200</td>\n",
       "      <td>2.003174e+06</td>\n",
       "      <td>1415.335196</td>\n",
       "    </tr>\n",
       "    <tr>\n",
       "      <th>1</th>\n",
       "      <td>535</td>\n",
       "      <td>2022-02-16 13:26:41.195</td>\n",
       "      <td>472.075740</td>\n",
       "      <td>211.715790</td>\n",
       "      <td>182.445760</td>\n",
       "      <td>3.009655e+05</td>\n",
       "      <td>548.603259</td>\n",
       "    </tr>\n",
       "    <tr>\n",
       "      <th>2</th>\n",
       "      <td>535</td>\n",
       "      <td>2022-02-16 13:27:41.255</td>\n",
       "      <td>1282.833300</td>\n",
       "      <td>1475.869100</td>\n",
       "      <td>3034.773000</td>\n",
       "      <td>1.303370e+07</td>\n",
       "      <td>3610.221328</td>\n",
       "    </tr>\n",
       "    <tr>\n",
       "      <th>3</th>\n",
       "      <td>535</td>\n",
       "      <td>2022-02-16 13:28:41.322</td>\n",
       "      <td>725.151600</td>\n",
       "      <td>937.863800</td>\n",
       "      <td>894.931800</td>\n",
       "      <td>2.206336e+06</td>\n",
       "      <td>1485.374120</td>\n",
       "    </tr>\n",
       "    <tr>\n",
       "      <th>4</th>\n",
       "      <td>535</td>\n",
       "      <td>2022-02-16 13:29:41.369</td>\n",
       "      <td>883.836000</td>\n",
       "      <td>974.864600</td>\n",
       "      <td>821.937800</td>\n",
       "      <td>2.407109e+06</td>\n",
       "      <td>1551.486001</td>\n",
       "    </tr>\n",
       "    <tr>\n",
       "      <th>...</th>\n",
       "      <td>...</td>\n",
       "      <td>...</td>\n",
       "      <td>...</td>\n",
       "      <td>...</td>\n",
       "      <td>...</td>\n",
       "      <td>...</td>\n",
       "      <td>...</td>\n",
       "    </tr>\n",
       "    <tr>\n",
       "      <th>144</th>\n",
       "      <td>535</td>\n",
       "      <td>2022-02-16 14:54:45.992</td>\n",
       "      <td>13.791843</td>\n",
       "      <td>13.056362</td>\n",
       "      <td>12.040449</td>\n",
       "      <td>5.056559e+02</td>\n",
       "      <td>22.486795</td>\n",
       "    </tr>\n",
       "    <tr>\n",
       "      <th>145</th>\n",
       "      <td>535</td>\n",
       "      <td>2022-02-16 14:55:46.047</td>\n",
       "      <td>13.453268</td>\n",
       "      <td>12.148547</td>\n",
       "      <td>11.995439</td>\n",
       "      <td>4.724682e+02</td>\n",
       "      <td>21.736333</td>\n",
       "    </tr>\n",
       "    <tr>\n",
       "      <th>146</th>\n",
       "      <td>535</td>\n",
       "      <td>2022-02-16 14:56:46.106</td>\n",
       "      <td>13.617699</td>\n",
       "      <td>12.818045</td>\n",
       "      <td>10.898737</td>\n",
       "      <td>4.685265e+02</td>\n",
       "      <td>21.645472</td>\n",
       "    </tr>\n",
       "    <tr>\n",
       "      <th>147</th>\n",
       "      <td>535</td>\n",
       "      <td>2022-02-16 14:57:46.169</td>\n",
       "      <td>13.511672</td>\n",
       "      <td>12.882248</td>\n",
       "      <td>11.463123</td>\n",
       "      <td>4.799208e+02</td>\n",
       "      <td>21.907094</td>\n",
       "    </tr>\n",
       "    <tr>\n",
       "      <th>148</th>\n",
       "      <td>535</td>\n",
       "      <td>2022-02-16 14:58:46.229</td>\n",
       "      <td>12.807358</td>\n",
       "      <td>13.317425</td>\n",
       "      <td>11.099634</td>\n",
       "      <td>4.645841e+02</td>\n",
       "      <td>21.554213</td>\n",
       "    </tr>\n",
       "  </tbody>\n",
       "</table>\n",
       "<p>149 rows × 7 columns</p>\n",
       "</div>"
      ],
      "text/plain": [
       "     sample                      time            x            y            z  \\\n",
       "0       534   2022-02-16 13:25:41.172   396.187200  1195.348600   646.027200   \n",
       "1       535   2022-02-16 13:26:41.195   472.075740   211.715790   182.445760   \n",
       "2       535   2022-02-16 13:27:41.255  1282.833300  1475.869100  3034.773000   \n",
       "3       535   2022-02-16 13:28:41.322   725.151600   937.863800   894.931800   \n",
       "4       535   2022-02-16 13:29:41.369   883.836000   974.864600   821.937800   \n",
       "..      ...                       ...          ...          ...          ...   \n",
       "144     535   2022-02-16 14:54:45.992    13.791843    13.056362    12.040449   \n",
       "145     535   2022-02-16 14:55:46.047    13.453268    12.148547    11.995439   \n",
       "146     535   2022-02-16 14:56:46.106    13.617699    12.818045    10.898737   \n",
       "147     535   2022-02-16 14:57:46.169    13.511672    12.882248    11.463123   \n",
       "148     535   2022-02-16 14:58:46.229    12.807358    13.317425    11.099634   \n",
       "\n",
       "            sumsq           vm  \n",
       "0    2.003174e+06  1415.335196  \n",
       "1    3.009655e+05   548.603259  \n",
       "2    1.303370e+07  3610.221328  \n",
       "3    2.206336e+06  1485.374120  \n",
       "4    2.407109e+06  1551.486001  \n",
       "..            ...          ...  \n",
       "144  5.056559e+02    22.486795  \n",
       "145  4.724682e+02    21.736333  \n",
       "146  4.685265e+02    21.645472  \n",
       "147  4.799208e+02    21.907094  \n",
       "148  4.645841e+02    21.554213  \n",
       "\n",
       "[149 rows x 7 columns]"
      ]
     },
     "execution_count": 133,
     "metadata": {},
     "output_type": "execute_result"
    }
   ],
   "source": [
    "#!pip install pandas # remove the hash if you need to install pandas\n",
    "import pandas as pd  #importing pandas to work with our data as a dataframe\n",
    "#\"C:\\Users\\chags\\Downloads\\ac_watch.xlsx\"\n",
    "df = pd.read_excel(\"C:/Users/chags/Downloads/tj_watch.xlsx\") #read in excel with only mims data, use read_csv to read in csv file\n",
    "df #show the data frame"
   ]
  },
  {
   "cell_type": "code",
   "execution_count": 134,
   "metadata": {},
   "outputs": [],
   "source": [
    "vm = df[\"vm\"]"
   ]
  },
  {
   "cell_type": "code",
   "execution_count": 135,
   "metadata": {},
   "outputs": [
    {
     "name": "stderr",
     "output_type": "stream",
     "text": [
      "<ipython-input-135-41da57a75ec6>:6: SettingWithCopyWarning: \n",
      "A value is trying to be set on a copy of a slice from a DataFrame\n",
      "\n",
      "See the caveats in the documentation: https://pandas.pydata.org/pandas-docs/stable/user_guide/indexing.html#returning-a-view-versus-a-copy\n",
      "  low = vm[s_threshold:] = vm[s_threshold:] > low_threshold\n",
      "C:\\Users\\chags\\AppData\\Roaming\\Python\\Python38\\site-packages\\pandas\\core\\indexing.py:670: SettingWithCopyWarning: \n",
      "A value is trying to be set on a copy of a slice from a DataFrame\n",
      "\n",
      "See the caveats in the documentation: https://pandas.pydata.org/pandas-docs/stable/user_guide/indexing.html#returning-a-view-versus-a-copy\n",
      "  iloc._setitem_with_indexer(indexer, value)\n"
     ]
    }
   ],
   "source": [
    "low_threshold = 3000 #set your low value threshold here\n",
    "mv_threshold = 6000 #set your high value threshold here\n",
    "s_threshold = 0 #set your time series threshold here #also known as bout\n",
    "\n",
    "low = vm[s_threshold:] = vm[s_threshold:] > low_threshold \n",
    "mv = vm[s_threshold:] = vm[s_threshold:] > mv_threshold "
   ]
  },
  {
   "cell_type": "code",
   "execution_count": 136,
   "metadata": {},
   "outputs": [],
   "source": [
    "mod_act_filt = pd.DataFrame() \n",
    "mod_act_filt[\"Low Threshold\"] = low\n",
    "mod_act_filt[\"MV Threshold\"] = mv"
   ]
  },
  {
   "cell_type": "code",
   "execution_count": 137,
   "metadata": {},
   "outputs": [
    {
     "data": {
      "text/html": [
       "<div>\n",
       "<style scoped>\n",
       "    .dataframe tbody tr th:only-of-type {\n",
       "        vertical-align: middle;\n",
       "    }\n",
       "\n",
       "    .dataframe tbody tr th {\n",
       "        vertical-align: top;\n",
       "    }\n",
       "\n",
       "    .dataframe thead th {\n",
       "        text-align: right;\n",
       "    }\n",
       "</style>\n",
       "<table border=\"1\" class=\"dataframe\">\n",
       "  <thead>\n",
       "    <tr style=\"text-align: right;\">\n",
       "      <th></th>\n",
       "      <th>Low Threshold</th>\n",
       "      <th>MV Threshold</th>\n",
       "    </tr>\n",
       "  </thead>\n",
       "  <tbody>\n",
       "    <tr>\n",
       "      <th>0</th>\n",
       "      <td>False</td>\n",
       "      <td>False</td>\n",
       "    </tr>\n",
       "    <tr>\n",
       "      <th>1</th>\n",
       "      <td>False</td>\n",
       "      <td>False</td>\n",
       "    </tr>\n",
       "    <tr>\n",
       "      <th>2</th>\n",
       "      <td>True</td>\n",
       "      <td>False</td>\n",
       "    </tr>\n",
       "    <tr>\n",
       "      <th>3</th>\n",
       "      <td>False</td>\n",
       "      <td>False</td>\n",
       "    </tr>\n",
       "    <tr>\n",
       "      <th>4</th>\n",
       "      <td>False</td>\n",
       "      <td>False</td>\n",
       "    </tr>\n",
       "    <tr>\n",
       "      <th>...</th>\n",
       "      <td>...</td>\n",
       "      <td>...</td>\n",
       "    </tr>\n",
       "    <tr>\n",
       "      <th>144</th>\n",
       "      <td>False</td>\n",
       "      <td>False</td>\n",
       "    </tr>\n",
       "    <tr>\n",
       "      <th>145</th>\n",
       "      <td>False</td>\n",
       "      <td>False</td>\n",
       "    </tr>\n",
       "    <tr>\n",
       "      <th>146</th>\n",
       "      <td>False</td>\n",
       "      <td>False</td>\n",
       "    </tr>\n",
       "    <tr>\n",
       "      <th>147</th>\n",
       "      <td>False</td>\n",
       "      <td>False</td>\n",
       "    </tr>\n",
       "    <tr>\n",
       "      <th>148</th>\n",
       "      <td>False</td>\n",
       "      <td>False</td>\n",
       "    </tr>\n",
       "  </tbody>\n",
       "</table>\n",
       "<p>149 rows × 2 columns</p>\n",
       "</div>"
      ],
      "text/plain": [
       "     Low Threshold  MV Threshold\n",
       "0            False         False\n",
       "1            False         False\n",
       "2             True         False\n",
       "3            False         False\n",
       "4            False         False\n",
       "..             ...           ...\n",
       "144          False         False\n",
       "145          False         False\n",
       "146          False         False\n",
       "147          False         False\n",
       "148          False         False\n",
       "\n",
       "[149 rows x 2 columns]"
      ]
     },
     "execution_count": 137,
     "metadata": {},
     "output_type": "execute_result"
    }
   ],
   "source": [
    "mod_act_filt #show our output"
   ]
  },
  {
   "cell_type": "code",
   "execution_count": 138,
   "metadata": {},
   "outputs": [],
   "source": [
    "mod_act_filt = mod_act_filt.astype(int) #transform true/false to 1/0"
   ]
  },
  {
   "cell_type": "code",
   "execution_count": 139,
   "metadata": {},
   "outputs": [
    {
     "data": {
      "text/html": [
       "<div>\n",
       "<style scoped>\n",
       "    .dataframe tbody tr th:only-of-type {\n",
       "        vertical-align: middle;\n",
       "    }\n",
       "\n",
       "    .dataframe tbody tr th {\n",
       "        vertical-align: top;\n",
       "    }\n",
       "\n",
       "    .dataframe thead th {\n",
       "        text-align: right;\n",
       "    }\n",
       "</style>\n",
       "<table border=\"1\" class=\"dataframe\">\n",
       "  <thead>\n",
       "    <tr style=\"text-align: right;\">\n",
       "      <th></th>\n",
       "      <th>Low Threshold</th>\n",
       "      <th>MV Threshold</th>\n",
       "    </tr>\n",
       "  </thead>\n",
       "  <tbody>\n",
       "    <tr>\n",
       "      <th>0</th>\n",
       "      <td>0</td>\n",
       "      <td>0</td>\n",
       "    </tr>\n",
       "    <tr>\n",
       "      <th>1</th>\n",
       "      <td>0</td>\n",
       "      <td>0</td>\n",
       "    </tr>\n",
       "    <tr>\n",
       "      <th>2</th>\n",
       "      <td>1</td>\n",
       "      <td>0</td>\n",
       "    </tr>\n",
       "    <tr>\n",
       "      <th>3</th>\n",
       "      <td>0</td>\n",
       "      <td>0</td>\n",
       "    </tr>\n",
       "    <tr>\n",
       "      <th>4</th>\n",
       "      <td>0</td>\n",
       "      <td>0</td>\n",
       "    </tr>\n",
       "    <tr>\n",
       "      <th>...</th>\n",
       "      <td>...</td>\n",
       "      <td>...</td>\n",
       "    </tr>\n",
       "    <tr>\n",
       "      <th>144</th>\n",
       "      <td>0</td>\n",
       "      <td>0</td>\n",
       "    </tr>\n",
       "    <tr>\n",
       "      <th>145</th>\n",
       "      <td>0</td>\n",
       "      <td>0</td>\n",
       "    </tr>\n",
       "    <tr>\n",
       "      <th>146</th>\n",
       "      <td>0</td>\n",
       "      <td>0</td>\n",
       "    </tr>\n",
       "    <tr>\n",
       "      <th>147</th>\n",
       "      <td>0</td>\n",
       "      <td>0</td>\n",
       "    </tr>\n",
       "    <tr>\n",
       "      <th>148</th>\n",
       "      <td>0</td>\n",
       "      <td>0</td>\n",
       "    </tr>\n",
       "  </tbody>\n",
       "</table>\n",
       "<p>149 rows × 2 columns</p>\n",
       "</div>"
      ],
      "text/plain": [
       "     Low Threshold  MV Threshold\n",
       "0                0             0\n",
       "1                0             0\n",
       "2                1             0\n",
       "3                0             0\n",
       "4                0             0\n",
       "..             ...           ...\n",
       "144              0             0\n",
       "145              0             0\n",
       "146              0             0\n",
       "147              0             0\n",
       "148              0             0\n",
       "\n",
       "[149 rows x 2 columns]"
      ]
     },
     "execution_count": 139,
     "metadata": {},
     "output_type": "execute_result"
    }
   ],
   "source": [
    "mod_act_filt #view the data as 1/0s"
   ]
  },
  {
   "cell_type": "code",
   "execution_count": 140,
   "metadata": {},
   "outputs": [
    {
     "data": {
      "text/plain": [
       "<AxesSubplot:>"
      ]
     },
     "execution_count": 140,
     "metadata": {},
     "output_type": "execute_result"
    },
    {
     "data": {
      "image/png": "[encoded data removed]",
      "text/plain": [
       "<Figure size 432x288 with 1 Axes>"
      ]
     },
     "metadata": {
      "needs_background": "light"
     },
     "output_type": "display_data"
    }
   ],
   "source": [
    "mod_act_filt.plot.line()"
   ]
  },
  {
   "cell_type": "code",
   "execution_count": 141,
   "metadata": {},
   "outputs": [],
   "source": [
    "N = 60\n",
    "hours = mod_act_filt.groupby(mod_act_filt.index // N).sum()"
   ]
  },
  {
   "cell_type": "code",
   "execution_count": 142,
   "metadata": {},
   "outputs": [
    {
     "data": {
      "text/plain": [
       "<AxesSubplot:xlabel='Time - Hours', ylabel='# of Minutes of PA Above Threshold'>"
      ]
     },
     "execution_count": 142,
     "metadata": {},
     "output_type": "execute_result"
    },
    {
     "data": {
      "image/png": "[encoded data removed]",
      "text/plain": [
       "<Figure size 432x288 with 1 Axes>"
      ]
     },
     "metadata": {
      "needs_background": "light"
     },
     "output_type": "display_data"
    }
   ],
   "source": [
    "hours.plot.bar(xlabel=\"Time - Hours\", ylabel=\"# of Minutes of PA Above Threshold\")"
   ]
  },
  {
   "cell_type": "code",
   "execution_count": null,
   "metadata": {},
   "outputs": [],
   "source": []
  }
 ],
 "metadata": {
  "kernelspec": {
   "display_name": "Python 3",
   "language": "python",
   "name": "python3"
  },
  "language_info": {
   "codemirror_mode": {
    "name": "ipython",
    "version": 3
   },
   "file_extension": ".py",
   "mimetype": "text/x-python",
   "name": "python",
   "nbconvert_exporter": "python",
   "pygments_lexer": "ipython3",
   "version": "3.8.5"
  }
 },
 "nbformat": 4,
 "nbformat_minor": 4
}
