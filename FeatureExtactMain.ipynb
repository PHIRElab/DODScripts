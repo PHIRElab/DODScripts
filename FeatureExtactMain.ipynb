{
 "cells": [
  {
   "cell_type": "markdown",
   "metadata": {},
   "source": [
    "# Extract Features using TSFEL\n",
    "For more information on TSFEL visit https://tsfel.readthedocs.io/en/latest/\n",
    "Reach out to Cole (cole.hagen0001@temple.edu) with any questions on this notebook "
   ]
  },
  {
   "cell_type": "markdown",
   "metadata": {},
   "source": [
    "## Import Libraries"
   ]
  },
  {
   "cell_type": "code",
   "execution_count": 12,
   "metadata": {},
   "outputs": [],
   "source": [
    "import pandas as pd\n",
    "import seaborn as sns\n",
    "import tsfel\n",
    "import ipywidgets as widgets\n",
    "import io"
   ]
  },
  {
   "cell_type": "markdown",
   "metadata": {},
   "source": [
    "## Enter Filepath"
   ]
  },
  {
   "cell_type": "code",
   "execution_count": 24,
   "metadata": {},
   "outputs": [
    {
     "name": "stdout",
     "output_type": "stream",
     "text": [
      "C:/Users/chags/Downloads/PIL03_CUET1_02092022_a1.csv\n"
     ]
    }
   ],
   "source": [
    "filepath = input() #enter full file path #use forward slashes here"
   ]
  },
  {
   "cell_type": "code",
   "execution_count": 25,
   "metadata": {},
   "outputs": [
    {
     "name": "stderr",
     "output_type": "stream",
     "text": [
      "C:\\Users\\chags\\anaconda3\\lib\\site-packages\\IPython\\core\\interactiveshell.py:3146: DtypeWarning: Columns (2) have mixed types.Specify dtype option on import or set low_memory=False.\n",
      "  has_raised = await self.run_ast_nodes(code_ast.body, cell_name,\n"
     ]
    },
    {
     "data": {
      "text/html": [
       "<div>\n",
       "<style scoped>\n",
       "    .dataframe tbody tr th:only-of-type {\n",
       "        vertical-align: middle;\n",
       "    }\n",
       "\n",
       "    .dataframe tbody tr th {\n",
       "        vertical-align: top;\n",
       "    }\n",
       "\n",
       "    .dataframe thead th {\n",
       "        text-align: right;\n",
       "    }\n",
       "</style>\n",
       "<table border=\"1\" class=\"dataframe\">\n",
       "  <thead>\n",
       "    <tr style=\"text-align: right;\">\n",
       "      <th></th>\n",
       "      <th>Accelerometer X</th>\n",
       "      <th>Accelerometer Y</th>\n",
       "      <th>Accelerometer Z</th>\n",
       "      <th>class</th>\n",
       "    </tr>\n",
       "    <tr>\n",
       "      <th>index</th>\n",
       "      <th></th>\n",
       "      <th></th>\n",
       "      <th></th>\n",
       "      <th></th>\n",
       "    </tr>\n",
       "  </thead>\n",
       "  <tbody>\n",
       "    <tr>\n",
       "      <th>2021-12-14T12:25:00.0000000</th>\n",
       "      <td>0.171387</td>\n",
       "      <td>0.404297</td>\n",
       "      <td>0.891602</td>\n",
       "      <td>0</td>\n",
       "    </tr>\n",
       "    <tr>\n",
       "      <th>2021-12-14T12:25:00.0100000</th>\n",
       "      <td>0.172852</td>\n",
       "      <td>0.403809</td>\n",
       "      <td>0.886230</td>\n",
       "      <td>0</td>\n",
       "    </tr>\n",
       "    <tr>\n",
       "      <th>2021-12-14T12:25:00.0200000</th>\n",
       "      <td>0.174316</td>\n",
       "      <td>0.416992</td>\n",
       "      <td>0.879395</td>\n",
       "      <td>0</td>\n",
       "    </tr>\n",
       "    <tr>\n",
       "      <th>2021-12-14T12:25:00.0300000</th>\n",
       "      <td>0.178223</td>\n",
       "      <td>0.425781</td>\n",
       "      <td>0.874023</td>\n",
       "      <td>0</td>\n",
       "    </tr>\n",
       "    <tr>\n",
       "      <th>2021-12-14T12:25:00.0400000</th>\n",
       "      <td>0.174805</td>\n",
       "      <td>0.425293</td>\n",
       "      <td>0.873047</td>\n",
       "      <td>0</td>\n",
       "    </tr>\n",
       "    <tr>\n",
       "      <th>...</th>\n",
       "      <td>...</td>\n",
       "      <td>...</td>\n",
       "      <td>...</td>\n",
       "      <td>...</td>\n",
       "    </tr>\n",
       "    <tr>\n",
       "      <th>2021-12-14T12:48:31.9500000</th>\n",
       "      <td>-0.002930</td>\n",
       "      <td>-1.025391</td>\n",
       "      <td>0.009277</td>\n",
       "      <td>0</td>\n",
       "    </tr>\n",
       "    <tr>\n",
       "      <th>2021-12-14T12:48:31.9600000</th>\n",
       "      <td>-0.006348</td>\n",
       "      <td>-1.027344</td>\n",
       "      <td>0.004883</td>\n",
       "      <td>0</td>\n",
       "    </tr>\n",
       "    <tr>\n",
       "      <th>2021-12-14T12:48:31.9700000</th>\n",
       "      <td>-0.004883</td>\n",
       "      <td>-1.024414</td>\n",
       "      <td>0.007324</td>\n",
       "      <td>0</td>\n",
       "    </tr>\n",
       "    <tr>\n",
       "      <th>2021-12-14T12:48:31.9800000</th>\n",
       "      <td>-0.004883</td>\n",
       "      <td>-1.025391</td>\n",
       "      <td>0.006836</td>\n",
       "      <td>0</td>\n",
       "    </tr>\n",
       "    <tr>\n",
       "      <th>2021-12-14T12:48:31.9900000</th>\n",
       "      <td>-0.003906</td>\n",
       "      <td>-1.026367</td>\n",
       "      <td>0.005371</td>\n",
       "      <td>0</td>\n",
       "    </tr>\n",
       "  </tbody>\n",
       "</table>\n",
       "<p>141200 rows × 4 columns</p>\n",
       "</div>"
      ],
      "text/plain": [
       "                             Accelerometer X  Accelerometer Y  \\\n",
       "index                                                           \n",
       "2021-12-14T12:25:00.0000000         0.171387         0.404297   \n",
       "2021-12-14T12:25:00.0100000         0.172852         0.403809   \n",
       "2021-12-14T12:25:00.0200000         0.174316         0.416992   \n",
       "2021-12-14T12:25:00.0300000         0.178223         0.425781   \n",
       "2021-12-14T12:25:00.0400000         0.174805         0.425293   \n",
       "...                                      ...              ...   \n",
       "2021-12-14T12:48:31.9500000        -0.002930        -1.025391   \n",
       "2021-12-14T12:48:31.9600000        -0.006348        -1.027344   \n",
       "2021-12-14T12:48:31.9700000        -0.004883        -1.024414   \n",
       "2021-12-14T12:48:31.9800000        -0.004883        -1.025391   \n",
       "2021-12-14T12:48:31.9900000        -0.003906        -1.026367   \n",
       "\n",
       "                             Accelerometer Z  class  \n",
       "index                                                \n",
       "2021-12-14T12:25:00.0000000         0.891602      0  \n",
       "2021-12-14T12:25:00.0100000         0.886230      0  \n",
       "2021-12-14T12:25:00.0200000         0.879395      0  \n",
       "2021-12-14T12:25:00.0300000         0.874023      0  \n",
       "2021-12-14T12:25:00.0400000         0.873047      0  \n",
       "...                                      ...    ...  \n",
       "2021-12-14T12:48:31.9500000         0.009277      0  \n",
       "2021-12-14T12:48:31.9600000         0.004883      0  \n",
       "2021-12-14T12:48:31.9700000         0.007324      0  \n",
       "2021-12-14T12:48:31.9800000         0.006836      0  \n",
       "2021-12-14T12:48:31.9900000         0.005371      0  \n",
       "\n",
       "[141200 rows x 4 columns]"
      ]
     },
     "execution_count": 25,
     "metadata": {},
     "output_type": "execute_result"
    }
   ],
   "source": [
    "df = pd.read_csv(filepath)\n",
    "df_time = df.rename(columns={'Timestamp':'index'}).set_index('index') #changing timestamp to index \n",
    "x1 = df_time[[\"Accelerometer X\", \"Accelerometer Y\", \"Accelerometer Z\", \"class\"]] #selecting columns to extract features #only acc here\n",
    "x1"
   ]
  },
  {
   "cell_type": "markdown",
   "metadata": {},
   "source": [
    "## Visualize Data"
   ]
  },
  {
   "cell_type": "code",
   "execution_count": 26,
   "metadata": {},
   "outputs": [
    {
     "name": "stderr",
     "output_type": "stream",
     "text": [
      "C:\\Users\\chags\\AppData\\Roaming\\Python\\Python38\\site-packages\\pandas\\plotting\\_matplotlib\\core.py:1235: UserWarning: FixedFormatter should only be used together with FixedLocator\n",
      "  ax.set_xticklabels(xticklabels)\n"
     ]
    },
    {
     "data": {
      "text/plain": [
       "<AxesSubplot:xlabel='index'>"
      ]
     },
     "execution_count": 26,
     "metadata": {},
     "output_type": "execute_result"
    },
    {
     "data": {
      "image/png": "[encoded data removed]",
      "text/plain": [
       "<Figure size 432x288 with 1 Axes>"
      ]
     },
     "metadata": {
      "needs_background": "light"
     },
     "output_type": "display_data"
    }
   ],
   "source": [
    "x1.plot.line()"
   ]
  },
  {
   "cell_type": "markdown",
   "metadata": {},
   "source": [
    "## Extract Features"
   ]
  },
  {
   "cell_type": "code",
   "execution_count": 36,
   "metadata": {},
   "outputs": [
    {
     "name": "stdout",
     "output_type": "stream",
     "text": [
      "*** Feature extraction started ***\n"
     ]
    },
    {
     "data": {
      "text/html": [
       "\n",
       "              <p>\n",
       "                  Progress: 100% Complete\n",
       "              <p/>            \n",
       "              <progress\n",
       "                  value='3406'\n",
       "                  max='3406',\n",
       "                  style='width: 25%',\n",
       "              >\n",
       "                  3406\n",
       "              </progress>\n",
       "\n",
       "    "
      ],
      "text/plain": [
       "<IPython.core.display.HTML object>"
      ]
     },
     "metadata": {},
     "output_type": "display_data"
    },
    {
     "name": "stdout",
     "output_type": "stream",
     "text": [
      "\n",
      "*** Feature extraction finished ***\n"
     ]
    }
   ],
   "source": [
    "cfg_file = tsfel.get_features_by_domain() \n",
    "x_sig_train = tsfel.time_series_features_extractor(cfg_file, x1, fs=100, window_size=100)  # Receives a time series sampled at 100 Hz, divides into windows of size 100 (i.e. 1 second) and extracts all features"
   ]
  },
  {
   "cell_type": "markdown",
   "metadata": {},
   "source": [
    "## Enter Save Path"
   ]
  },
  {
   "cell_type": "code",
   "execution_count": null,
   "metadata": {},
   "outputs": [],
   "source": [
    "save_path = input() #enter full file path #use forward slashes here"
   ]
  },
  {
   "cell_type": "markdown",
   "metadata": {},
   "source": [
    "## Save Features"
   ]
  },
  {
   "cell_type": "code",
   "execution_count": 37,
   "metadata": {},
   "outputs": [],
   "source": [
    "x_sig_train.to_csv(save_path) #saving features to csv file"
   ]
  }
 ],
 "metadata": {
  "kernelspec": {
   "display_name": "Python 3",
   "language": "python",
   "name": "python3"
  },
  "language_info": {
   "codemirror_mode": {
    "name": "ipython",
    "version": 3
   },
   "file_extension": ".py",
   "mimetype": "text/x-python",
   "name": "python",
   "nbconvert_exporter": "python",
   "pygments_lexer": "ipython3",
   "version": "3.8.5"
  }
 },
 "nbformat": 4,
 "nbformat_minor": 4
}
